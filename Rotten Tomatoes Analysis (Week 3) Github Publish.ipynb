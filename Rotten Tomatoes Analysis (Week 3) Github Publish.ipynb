{
    "cells": [
        {
            "metadata": {},
            "cell_type": "markdown",
            "source": "# Description\n\nThis notebook analyzes and visualizes a sample data set from Rotten Tomatoes."
        },
        {
            "metadata": {},
            "cell_type": "code",
            "source": "\nimport os, types\nimport pandas as pd\nfrom botocore.client import Config\nimport ibm_boto3\n\ndef __iter__(self): return 0\n\n# @hidden_cell\n# The following code accesses a file in your IBM Cloud Object Storage. It includes your credentials.\n# You might want to remove those credentials before you share the notebook.\n\nif os.environ.get('RUNTIME_ENV_LOCATION_TYPE') == 'external':\n    endpoint_de526bccb3e744bba32743f2192c406d = 'https://s3.ap.cloud-object-storage.appdomain.cloud'\nelse:\n    endpoint_de526bccb3e744bba32743f2192c406d = 'https://s3.private.ap.cloud-object-storage.appdomain.cloud'\n\nclient_de526bccb3e744bba32743f2192c406d = ibm_boto3.client(service_name='s3',\n    ibm_api_key_id='xxx',\n    ibm_auth_endpoint=\"xxx\",\n    config=Config(signature_version='oauth'),\n    endpoint_url=endpoint_de526bccb3e744bba32743f2192c406d)\n\nbody = client_de526bccb3e744bba32743f2192c406d.get_object(Bucket='jupyternotebooks-donotdelete-pr-nfrba1gude87fa',Key='RT_conso(V2).csv')['Body']\n# add missing __iter__ method, so pandas accepts body as file-like object\nif not hasattr(body, \"__iter__\"): body.__iter__ = types.MethodType( __iter__, body )\n\ndf_data_1 = pd.read_csv(body)\ndf_data_1.head()\n",
            "execution_count": 1,
            "outputs": [
                {
                    "output_type": "execute_result",
                    "execution_count": 1,
                    "data": {
                        "text/plain": "            movie_title  year tomato_score  \\\n0      12 Years a Slave  2013          95%   \n1  20 Feet From Stardom  2013          99%   \n2              45 Years  2015          97%   \n3           All Is Lost  2013          94%   \n4         Amazing Grace  2019          99%   \n\n                                                Link  audience_score rating  \\\n0  https://www.rottentomatoes.com/m/12_years_a_sl...              90      R   \n1  https://www.rottentomatoes.com/m/20_feet_from_...              82  PG-13   \n2         https://www.rottentomatoes.com/m/45_years/              67      R   \n3  https://www.rottentomatoes.com/m/all_is_lost_2...              63  PG-13   \n4  https://www.rottentomatoes.com/m/amazing_grace...              80      G   \n\n                       genre language  \n0            Drama/Biography  English  \n1                Documentary  English  \n2                      Drama  English  \n3   Drama/Mystery & thriller  English  \n4          Music/Documentary  English  ",
                        "text/html": "<div>\n<style scoped>\n    .dataframe tbody tr th:only-of-type {\n        vertical-align: middle;\n    }\n\n    .dataframe tbody tr th {\n        vertical-align: top;\n    }\n\n    .dataframe thead th {\n        text-align: right;\n    }\n</style>\n<table border=\"1\" class=\"dataframe\">\n  <thead>\n    <tr style=\"text-align: right;\">\n      <th></th>\n      <th>movie_title</th>\n      <th>year</th>\n      <th>tomato_score</th>\n      <th>Link</th>\n      <th>audience_score</th>\n      <th>rating</th>\n      <th>genre</th>\n      <th>language</th>\n    </tr>\n  </thead>\n  <tbody>\n    <tr>\n      <th>0</th>\n      <td>12 Years a Slave</td>\n      <td>2013</td>\n      <td>95%</td>\n      <td>https://www.rottentomatoes.com/m/12_years_a_sl...</td>\n      <td>90</td>\n      <td>R</td>\n      <td>Drama/Biography</td>\n      <td>English</td>\n    </tr>\n    <tr>\n      <th>1</th>\n      <td>20 Feet From Stardom</td>\n      <td>2013</td>\n      <td>99%</td>\n      <td>https://www.rottentomatoes.com/m/20_feet_from_...</td>\n      <td>82</td>\n      <td>PG-13</td>\n      <td>Documentary</td>\n      <td>English</td>\n    </tr>\n    <tr>\n      <th>2</th>\n      <td>45 Years</td>\n      <td>2015</td>\n      <td>97%</td>\n      <td>https://www.rottentomatoes.com/m/45_years/</td>\n      <td>67</td>\n      <td>R</td>\n      <td>Drama</td>\n      <td>English</td>\n    </tr>\n    <tr>\n      <th>3</th>\n      <td>All Is Lost</td>\n      <td>2013</td>\n      <td>94%</td>\n      <td>https://www.rottentomatoes.com/m/all_is_lost_2...</td>\n      <td>63</td>\n      <td>PG-13</td>\n      <td>Drama/Mystery &amp; thriller</td>\n      <td>English</td>\n    </tr>\n    <tr>\n      <th>4</th>\n      <td>Amazing Grace</td>\n      <td>2019</td>\n      <td>99%</td>\n      <td>https://www.rottentomatoes.com/m/amazing_grace...</td>\n      <td>80</td>\n      <td>G</td>\n      <td>Music/Documentary</td>\n      <td>English</td>\n    </tr>\n  </tbody>\n</table>\n</div>"
                    },
                    "metadata": {}
                }
            ]
        },
        {
            "metadata": {},
            "cell_type": "code",
            "source": "",
            "execution_count": null,
            "outputs": []
        }
    ],
    "metadata": {
        "kernelspec": {
            "name": "python3",
            "display_name": "Python 3.8",
            "language": "python"
        },
        "language_info": {
            "name": "python",
            "version": "3.8.10",
            "mimetype": "text/x-python",
            "codemirror_mode": {
                "name": "ipython",
                "version": 3
            },
            "pygments_lexer": "ipython3",
            "nbconvert_exporter": "python",
            "file_extension": ".py"
        }
    },
    "nbformat": 4,
    "nbformat_minor": 1
}